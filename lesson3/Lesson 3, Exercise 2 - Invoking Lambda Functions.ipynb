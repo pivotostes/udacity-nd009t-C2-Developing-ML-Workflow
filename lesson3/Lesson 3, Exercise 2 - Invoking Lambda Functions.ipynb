{
 "cells": [
  {
   "cell_type": "markdown",
   "id": "46772e57",
   "metadata": {},
   "source": [
    "# UDACITY : Designing Your First Workflow - Invoking Lambda Functions"
   ]
  },
  {
   "cell_type": "markdown",
   "id": "0326b658",
   "metadata": {},
   "source": [
    "In the last exercise, you created your own Lambda function. Without realizing it, you've already practiced invoking as well! Launching a test event is an example of synchronous invocation. In this exercise, you will continue working on the lambda function 'PreprocessLambda' from the previous exercise. However, you'll practice a different way to launch asynchronous invocation, and also practice the setup of an asynchronous invocation.\n",
    "These are only two examples. Lambda is one of the most flexible offerings in AWS and can be utilized in a variety of applications. The same Lambda function can be (and often is) both invoked synchronously and asynchronously."
   ]
  },
  {
   "cell_type": "markdown",
   "id": "7f5864cf",
   "metadata": {},
   "source": [
    "## Exercise: Synchronous invocation "
   ]
  },
  {
   "cell_type": "markdown",
   "id": "a926bedd",
   "metadata": {},
   "source": [
    "Synchronous invocations occur when a call is made to a Lambda function and a response is waited for. The example we're asking you to implement is a CLI invocation, but Lambda functions can also be placed behind Amazon's API Gateway for potential users to directly invoke a Lambda function. This, in turn, could be the interface that you expose to users to allow them to interact with other AWS resources. These types of invocations are great for \"get\" and \"set\" methods."
   ]
  },
  {
   "cell_type": "markdown",
   "id": "20fedaa5",
   "metadata": {},
   "source": [
    "Your task is to synchronously invoke the Lambda function you implemented in the last exercise using the CLI. The following documentation may be useful to you: https://docs.aws.amazon.com/lambda/latest/dg/invocation-sync.html \n",
    "\n",
    "You will need to attach the LambdaFullAccess policy to the SageMaker execution role used for your notebook. Once done, it will take a few minutes for the policy to register.  "
   ]
  },
  {
   "cell_type": "code",
   "execution_count": 7,
   "id": "8aab3056",
   "metadata": {},
   "outputs": [
    {
     "name": "stdout",
     "output_type": "stream",
     "text": [
      "aws invoke --function-name l3e2-function --payload {s3KeyValue: s3://sagemaker-studio-5dd93q66rzh/support-file/reviews_Musical_Instruments_5.json.zip} response.json\n"
     ]
    }
   ],
   "source": [
    "%%bash \n",
    "echo aws invoke --function-name l3e2-function --payload \"{\"s3KeyValue\": \"s3://sagemaker-studio-5dd93q66rzh/support-file/reviews_Musical_Instruments_5.json.zip\"}\" response.json\n",
    "\n"
   ]
  },
  {
   "cell_type": "markdown",
   "id": "740eed1f",
   "metadata": {},
   "source": [
    "## Exercise: Asynchronous invocation "
   ]
  },
  {
   "cell_type": "markdown",
   "id": "df54bf17",
   "metadata": {},
   "source": [
    "Asynchronous invocations occur when a service invokes lambda but does not wait for a response. The two most popular services that utilize asynchronous invocations are S3 (the storage we've been using) and SNS (Simple Notification Service.) We'll be setting up asynchronous invocations on an S3 bucket for our preprocessing function."
   ]
  },
  {
   "cell_type": "markdown",
   "id": "0f7c1cea",
   "metadata": {},
   "source": [
    "Your task is to setup a trigger for the Lambda function we've been working  whenever a file is uploaded to a specific folder in S3. You will need to do the following:\n",
    "\n",
    "* Create a new s3 folder within an existing bucket. \n",
    "* Create a new lambda trigger for S3 by clicking '+Add trigger'. Specifying the bucket. Specify a prefix of the desired folder. Specify a suffix of \".zip\" to ensure that recursive calls don't occur. \n",
    "* Modify the lambda handler in the previous exercise using the starter code so that it properly parses the event that's sent to it. \n",
    "\n",
    "To test, upload reviews_Patio_Lawn_and_Garden_5.json.zip in this directory to your S3 bucket. \n",
    "To see if the lambda function is triggered, you can go to the Monitor tab. \n",
    "\n"
   ]
  },
  {
   "cell_type": "markdown",
   "id": "d80164f7",
   "metadata": {},
   "source": [
    "## Lambda Handler Starter Code: Parsing S3 Upload Event. "
   ]
  },
  {
   "cell_type": "code",
   "execution_count": null,
   "id": "2f3387ee",
   "metadata": {},
   "outputs": [],
   "source": [
    "# Todo: write a lambda_handler function here.\n",
    "# The code to parse S3 event has provided to you, you only need to call the `preprocess` from the HelloBlazePreprocessLambda.py and return the status.\n",
    "import json\n",
    "import urllib\n",
    "\n",
    "for r in event['Records']:\n",
    "        bucket = r['s3']['bucket']['name']\n",
    "        key = urllib.parse.unquote_plus(r['s3']['object']['key'], encoding='utf-8')\n",
    "        uri = \"/\".join([bucket, key])"
   ]
  }
 ],
 "metadata": {
  "kernelspec": {
   "display_name": "conda_python3",
   "language": "python",
   "name": "conda_python3"
  },
  "language_info": {
   "codemirror_mode": {
    "name": "ipython",
    "version": 3
   },
   "file_extension": ".py",
   "mimetype": "text/x-python",
   "name": "python",
   "nbconvert_exporter": "python",
   "pygments_lexer": "ipython3",
   "version": "3.6.13"
  }
 },
 "nbformat": 4,
 "nbformat_minor": 5
}
